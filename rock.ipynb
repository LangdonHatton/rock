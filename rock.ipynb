{
 "cells": [
  {
   "cell_type": "code",
   "execution_count": 1,
   "id": "b271746f",
   "metadata": {},
   "outputs": [
    {
     "name": "stdout",
     "output_type": "stream",
     "text": [
      "Enter rock, paper, or scissor. Enter anything else to end the game. You choose: rock\n",
      "The computer chose scissors.\n",
      "You won.\n",
      "Enter rock, paper, or scissor. Enter anything else to end the game. You choose: p\n"
     ]
    }
   ],
   "source": [
    "import random\n",
    "x=True\n",
    "while x:\n",
    "    inp=input('Enter rock, paper, or scissor. Enter anything else to end the game. You choose: ')\n",
    "    possible_actions=['rock', 'paper', 'scissors']\n",
    "    comp=random.choice(possible_actions)\n",
    "    if inp!=\"rock\" and inp!=\"paper\" and inp!='scissors':\n",
    "        break\n",
    "    print('The computer chose', comp+ '.')\n",
    "    if comp==inp:\n",
    "        print('Tie game. Keep playing.')\n",
    "    elif comp=='rock': \n",
    "        if inp=='paper':\n",
    "            print('You won')\n",
    "        else:\n",
    "            print('You lost.')\n",
    "    elif comp=='scissors':\n",
    "        if inp=='rock':\n",
    "            print('You won.')\n",
    "        else:\n",
    "            print('You lost.')\n",
    "    elif comp=='paper':\n",
    "        if inp=='scissors':\n",
    "            print('You won.')\n",
    "        else:\n",
    "            print('You lost')"
   ]
  },
  {
   "cell_type": "code",
   "execution_count": null,
   "id": "110f9107",
   "metadata": {},
   "outputs": [],
   "source": []
  },
  {
   "cell_type": "code",
   "execution_count": null,
   "id": "5824dc7b",
   "metadata": {},
   "outputs": [],
   "source": []
  }
 ],
 "metadata": {
  "kernelspec": {
   "display_name": "Python 3 (ipykernel)",
   "language": "python",
   "name": "python3"
  },
  "language_info": {
   "codemirror_mode": {
    "name": "ipython",
    "version": 3
   },
   "file_extension": ".py",
   "mimetype": "text/x-python",
   "name": "python",
   "nbconvert_exporter": "python",
   "pygments_lexer": "ipython3",
   "version": "3.9.12"
  }
 },
 "nbformat": 4,
 "nbformat_minor": 5
}
